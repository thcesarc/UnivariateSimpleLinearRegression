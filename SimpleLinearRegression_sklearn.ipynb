{
  "nbformat": 4,
  "nbformat_minor": 0,
  "metadata": {
    "colab": {
      "provenance": [],
      "authorship_tag": "ABX9TyNFZik4qPfzZTxcskFS3jxY",
      "include_colab_link": true
    },
    "kernelspec": {
      "name": "python3",
      "display_name": "Python 3"
    },
    "language_info": {
      "name": "python"
    }
  },
  "cells": [
    {
      "cell_type": "markdown",
      "metadata": {
        "id": "view-in-github",
        "colab_type": "text"
      },
      "source": [
        "<a href=\"https://colab.research.google.com/github/thcesarc/UnivariateSimpleLinearRegression/blob/main/SimpleLinearRegression_sklearn.ipynb\" target=\"_parent\"><img src=\"https://colab.research.google.com/assets/colab-badge.svg\" alt=\"Open In Colab\"/></a>"
      ]
    },
    {
      "cell_type": "code",
      "source": [
        "import numpy as np\n",
        "import pandas as pd\n",
        "import matplotlib.pyplot as plt\n",
        "from   sklearn.metrics      import r2_score\n",
        "from   sklearn.linear_model import LinearRegression"
      ],
      "metadata": {
        "id": "Pmh-cJFET6vY"
      },
      "execution_count": 1,
      "outputs": []
    },
    {
      "cell_type": "markdown",
      "source": [
        "###Loading, selecting and splitting dataset"
      ],
      "metadata": {
        "id": "OMz77VBoJ3-q"
      }
    },
    {
      "cell_type": "code",
      "source": [
        "#loading\n",
        "full_dataset = pd.read_csv('Summary of Weather.csv', low_memory=False)"
      ],
      "metadata": {
        "id": "qldlaKcrU_Cc"
      },
      "execution_count": 3,
      "outputs": []
    },
    {
      "cell_type": "code",
      "source": [
        "#selection filter: select all dataframe rows in which the 'STA' (station) feature column is equals to the paris station code (34022)\n",
        "paris_filter = full_dataset['STA'] == 34022"
      ],
      "metadata": {
        "id": "rjKYb3MGVKu_"
      },
      "execution_count": 4,
      "outputs": []
    },
    {
      "cell_type": "code",
      "source": [
        "#split the dataset\n",
        "minimum_temperatures = full_dataset[paris_filter].loc[:,'MinTemp'].values\n",
        "maximum_temperatures = full_dataset[paris_filter].loc[:,'MaxTemp'].values"
      ],
      "metadata": {
        "id": "Y_QkJxfYVpN9"
      },
      "execution_count": 5,
      "outputs": []
    },
    {
      "cell_type": "markdown",
      "source": [
        "###Are both quantities linearly correlated?\n",
        "(Pearson's R)"
      ],
      "metadata": {
        "id": "XJZvkTKVYBJp"
      }
    },
    {
      "cell_type": "code",
      "source": [
        "np.corrcoef(minimum_temperatures,maximum_temperatures)"
      ],
      "metadata": {
        "colab": {
          "base_uri": "https://localhost:8080/"
        },
        "id": "ryUrUyH7X-k3",
        "outputId": "3f9803d0-1b0f-4fc2-aebf-36fc88e5e70c"
      },
      "execution_count": 6,
      "outputs": [
        {
          "output_type": "execute_result",
          "data": {
            "text/plain": [
              "array([[1.        , 0.88071397],\n",
              "       [0.88071397, 1.        ]])"
            ]
          },
          "metadata": {},
          "execution_count": 6
        }
      ]
    },
    {
      "cell_type": "markdown",
      "source": [
        "Any value above 70% indicates a strong positive linear correlation. So yes, we can proceed our analysis by creating a LinearRegression class object and transforming the data into a tensorial format - the only one accepted by scikit learn models. In short terms, this means passing only arrays of arrays to the model;"
      ],
      "metadata": {
        "id": "P8Pp_qgaZ9G2"
      }
    },
    {
      "cell_type": "markdown",
      "source": [
        "###Object instantiation and data fitting"
      ],
      "metadata": {
        "id": "juSa7Tq1KJPu"
      }
    },
    {
      "cell_type": "code",
      "source": [
        "estimator = LinearRegression()"
      ],
      "metadata": {
        "id": "W_nt7TSlaNZg"
      },
      "execution_count": 7,
      "outputs": []
    },
    {
      "cell_type": "code",
      "source": [
        "#'training' the model: find w0 and w1 from the formula f(x) = w1 * x + w0\n",
        "estimator.fit(minimum_temperatures.reshape(-1,1) , maximum_temperatures.reshape(-1,1))#reshaped into a tensorial form"
      ],
      "metadata": {
        "colab": {
          "base_uri": "https://localhost:8080/"
        },
        "id": "agVRegF6bXFH",
        "outputId": "6bbb7a6a-6fde-41df-9c20-59148e089f08"
      },
      "execution_count": 8,
      "outputs": [
        {
          "output_type": "execute_result",
          "data": {
            "text/plain": [
              "LinearRegression()"
            ]
          },
          "metadata": {},
          "execution_count": 8
        }
      ]
    },
    {
      "cell_type": "code",
      "source": [
        "w1,w0 = estimator.coef_ , estimator.intercept_\n",
        "print('w1 :', w1)\n",
        "print('w0 :', w0)"
      ],
      "metadata": {
        "colab": {
          "base_uri": "https://localhost:8080/"
        },
        "id": "jfBnjUxGdV8w",
        "outputId": "c17139d6-5d81-458f-d90b-2f38b9bd3e25"
      },
      "execution_count": 9,
      "outputs": [
        {
          "output_type": "stream",
          "name": "stdout",
          "text": [
            "w1 : [[1.23809106]]\n",
            "w0 : [7.89836196]\n"
          ]
        }
      ]
    },
    {
      "cell_type": "markdown",
      "source": [
        "###Predict values"
      ],
      "metadata": {
        "id": "tstwrIAZCv9B"
      }
    },
    {
      "cell_type": "code",
      "source": [
        "predicted = estimator.predict(minimum_temperatures.reshape(-1,1))"
      ],
      "metadata": {
        "id": "pZzxWnkHeZsh"
      },
      "execution_count": 13,
      "outputs": []
    },
    {
      "cell_type": "markdown",
      "source": [
        "###Computing the R² score"
      ],
      "metadata": {
        "id": "B-mGbB7sC05z"
      }
    },
    {
      "cell_type": "code",
      "source": [
        "score = r2_score(maximum_temperatures, predicted)\n",
        "print(\"{0:.2f}% of the data is well explained by the model.\".format(score*100))"
      ],
      "metadata": {
        "colab": {
          "base_uri": "https://localhost:8080/"
        },
        "id": "4dSFj7MeDBEJ",
        "outputId": "1cf75018-0503-42d6-c6bc-3ab10a84771d"
      },
      "execution_count": 14,
      "outputs": [
        {
          "output_type": "stream",
          "name": "stdout",
          "text": [
            "77.57% of the data is well explained by the model.\n"
          ]
        }
      ]
    },
    {
      "cell_type": "code",
      "source": [
        "plt.scatter(minimum_temperatures, maximum_temperatures)\n",
        "plt.title('sklearn.linear_model.LinearRegression fitting')\n",
        "plt.xlabel('Minimum temps')\n",
        "plt.ylabel('Maximum temps')\n",
        "plt.plot(minimum_temperatures,predicted_set,color='red')\n",
        "plt.show()\n"
      ],
      "metadata": {
        "colab": {
          "base_uri": "https://localhost:8080/",
          "height": 295
        },
        "id": "wf5kkKZ-enZA",
        "outputId": "d13d2491-7793-47d9-814a-8c1b0c8a8531"
      },
      "execution_count": 11,
      "outputs": [
        {
          "output_type": "display_data",
          "data": {
            "text/plain": [
              "<Figure size 432x288 with 1 Axes>"
            ],
            "image/png": "[encoded data removed]"
          },
          "metadata": {
            "needs_background": "light"
          }
        }
      ]
    }
  ]
}