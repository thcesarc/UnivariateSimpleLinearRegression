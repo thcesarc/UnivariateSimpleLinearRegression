{
  "nbformat": 4,
  "nbformat_minor": 0,
  "metadata": {
    "colab": {
      "provenance": [],
      "authorship_tag": "ABX9TyM+vu0Qa5y89Kpvm8gOv8GE",
      "include_colab_link": true
    },
    "kernelspec": {
      "name": "python3",
      "display_name": "Python 3"
    },
    "language_info": {
      "name": "python"
    }
  },
  "cells": [
    {
      "cell_type": "markdown",
      "metadata": {
        "id": "view-in-github",
        "colab_type": "text"
      },
      "source": [
        "<a href=\"https://colab.research.google.com/github/thcesarc/UnivariateSimpleLinearRegression/blob/main/SimpleLinearRegression_hardImp.ipynb\" target=\"_parent\"><img src=\"https://colab.research.google.com/assets/colab-badge.svg\" alt=\"Open In Colab\"/></a>"
      ]
    },
    {
      "cell_type": "code",
      "execution_count": 23,
      "metadata": {
        "id": "fEzEb5CQg_2O"
      },
      "outputs": [],
      "source": [
        "import numpy  as np\n",
        "import pandas as pd\n",
        "import matplotlib.pyplot as plt\n",
        "from sklearn.metrics import r2_score"
      ]
    },
    {
      "cell_type": "markdown",
      "source": [
        "###Loading, selecting and splitting dataset"
      ],
      "metadata": {
        "id": "J21nf_nE4JW9"
      }
    },
    {
      "cell_type": "code",
      "source": [
        "#loading\n",
        "full_dataset = pd.read_csv('Summary of Weather.csv', low_memory=False)"
      ],
      "metadata": {
        "id": "NXQsiL8Zh_5b"
      },
      "execution_count": 3,
      "outputs": []
    },
    {
      "cell_type": "code",
      "source": [
        "#selection filter: select all dataframe rows in which the 'STA' (station) feature column is equals to the paris station code (34022)\n",
        "paris_filter = full_dataset['STA'] == 34022"
      ],
      "metadata": {
        "id": "t1r49Tnz3D3k"
      },
      "execution_count": 6,
      "outputs": []
    },
    {
      "cell_type": "code",
      "source": [
        "minimum_temperatures = full_dataset[paris_filter].loc[:,'MinTemp'].values\n",
        "maximum_temperatures = full_dataset[paris_filter].loc[:,'MaxTemp'].values"
      ],
      "metadata": {
        "id": "oBBL2ZCffjXE"
      },
      "execution_count": 8,
      "outputs": []
    },
    {
      "cell_type": "markdown",
      "source": [
        "###The linear estimator "
      ],
      "metadata": {
        "id": "qDQ31WQQ5N5l"
      }
    },
    {
      "cell_type": "code",
      "source": [
        " class LinearRegressor:\n",
        "  '''generates a linear regression model based on x_set and y_set, \n",
        "     will find best values for w1 and w0 of: f(x) = w1x + w0 '''\n",
        "  def __init__(self):\n",
        "    self.w1 = None\n",
        "    self.w0 = None\n",
        "  def fit(self,x_set, y_set):\n",
        "    '''find w0 and w1'''\n",
        "    mean_x = x_set.mean()\n",
        "    mean_y = y_set.mean()\n",
        "    deviation_x = x_set - mean_x\n",
        "    deviation_y = y_set - mean_y\n",
        "    numerator   = sum(deviation_x * deviation_y)\n",
        "    denominator = sum(np.square(deviation_x))\n",
        "    self.w1 = numerator/denominator\n",
        "    self.w0 = mean_y - self.w1 * mean_x\n",
        "    return (self.w1, self.w0)\n",
        "  def predict(self, x_set):\n",
        "    return self.w1 * x_set + self.w0"
      ],
      "metadata": {
        "id": "0L7mJhvdieje"
      },
      "execution_count": 14,
      "outputs": []
    },
    {
      "cell_type": "markdown",
      "source": [
        "###Create object and fitting data into model"
      ],
      "metadata": {
        "id": "F9tl2d3p5eqn"
      }
    },
    {
      "cell_type": "code",
      "source": [
        "estimator = LinearRegressor() \n",
        "w0,w1 = estimator.fit(minimum_temperatures, maximum_temperatures)\n",
        "print('Coefficients:')\n",
        "print('w0:',w0)\n",
        "print('w1:',w1)"
      ],
      "metadata": {
        "colab": {
          "base_uri": "https://localhost:8080/"
        },
        "id": "SH3ZOU5vnE2Q",
        "outputId": "fede4227-94e4-4b6e-dba4-cc3fb9c5d1b5"
      },
      "execution_count": 22,
      "outputs": [
        {
          "output_type": "stream",
          "name": "stdout",
          "text": [
            "Coefficients:\n",
            "w0: 1.2380910589984533\n",
            "w1: 7.898361960134421\n"
          ]
        }
      ]
    },
    {
      "cell_type": "code",
      "source": [
        "predicted = estimator.predict(minimum_temperatures)"
      ],
      "metadata": {
        "id": "-4fglYNR8QRY"
      },
      "execution_count": 16,
      "outputs": []
    },
    {
      "cell_type": "markdown",
      "source": [
        "###Computing the R² score"
      ],
      "metadata": {
        "id": "Yk7-8WnQ7ikj"
      }
    },
    {
      "cell_type": "code",
      "source": [
        "score = r2_score(maximum_temperatures, predicted)\n",
        "print(\"{0:.2f}% of the data is well explained by the model.\".format(score*100))"
      ],
      "metadata": {
        "colab": {
          "base_uri": "https://localhost:8080/"
        },
        "id": "Z4MMBKX_7t2M",
        "outputId": "415d0f7a-9bf1-4b87-ed36-6ba34f8d52e3"
      },
      "execution_count": 35,
      "outputs": [
        {
          "output_type": "stream",
          "name": "stdout",
          "text": [
            "77.57% of the data is well explained by the model.\n"
          ]
        }
      ]
    },
    {
      "cell_type": "markdown",
      "source": [
        "###Visualizing the data"
      ],
      "metadata": {
        "id": "TMU5R0Nl7Pg2"
      }
    },
    {
      "cell_type": "code",
      "source": [
        "plt.scatter(minimum_temperatures, maximum_temperatures)\n",
        "plt.plot(minimum_temperatures, predicted,color='red')\n",
        "plt.title('LinearRegressor class fitting')\n",
        "plt.xlabel('Minimum temps')\n",
        "plt.ylabel('Maximum temps')\n",
        "plt.show()\n"
      ],
      "metadata": {
        "colab": {
          "base_uri": "https://localhost:8080/",
          "height": 295
        },
        "id": "43Nk1tEC8o58",
        "outputId": "772c5c22-7065-4449-b3b9-6fe7b7a1d579"
      },
      "execution_count": 17,
      "outputs": [
        {
          "output_type": "display_data",
          "data": {
            "text/plain": [
              "<Figure size 432x288 with 1 Axes>"
            ],
            "image/png": "[encoded data removed]"
          },
          "metadata": {
            "needs_background": "light"
          }
        }
      ]
    }
  ]
}