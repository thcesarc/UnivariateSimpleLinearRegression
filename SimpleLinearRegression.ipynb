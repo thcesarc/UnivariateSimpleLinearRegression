{
  "nbformat": 4,
  "nbformat_minor": 0,
  "metadata": {
    "colab": {
      "provenance": [],
      "authorship_tag": "ABX9TyN/Jsgv0THDeHuh2ZYLxfNo",
      "include_colab_link": true
    },
    "kernelspec": {
      "name": "python3",
      "display_name": "Python 3"
    },
    "language_info": {
      "name": "python"
    }
  },
  "cells": [
    {
      "cell_type": "markdown",
      "metadata": {
        "id": "view-in-github",
        "colab_type": "text"
      },
      "source": [
        "<a href=\"https://colab.research.google.com/github/thcesarc/UnivariateSimpleLinearRegression/blob/main/SimpleLinearRegression.ipynb\" target=\"_parent\"><img src=\"https://colab.research.google.com/assets/colab-badge.svg\" alt=\"Open In Colab\"/></a>"
      ]
    },
    {
      "cell_type": "code",
      "execution_count": null,
      "metadata": {
        "id": "4ZozI5iSamWU"
      },
      "outputs": [],
      "source": [
        "import numpy as np\n",
        "from numpy import random as rnd\n",
        "import pandas as pd\n",
        "import matplotlib.pyplot as plt"
      ]
    },
    {
      "cell_type": "code",
      "source": [
        "def some_linear_function(x):\n",
        "  return 5.6*x+3.3 \n",
        "\n",
        "def error_generator():\n",
        "  return random.randint(-100,100)"
      ],
      "metadata": {
        "id": "2sZrJUKha5Jo"
      },
      "execution_count": null,
      "outputs": []
    },
    {
      "cell_type": "code",
      "source": [
        "def generate_sample_set():\n",
        "  return np.linspace(-12, 100)\n",
        "\n",
        "def generate_target_set(function, sample_set):\n",
        "  return np.array(list(map(function, sample_set)))"
      ],
      "metadata": {
        "id": "m4hIFgvpb-Qi"
      },
      "execution_count": null,
      "outputs": []
    },
    {
      "cell_type": "code",
      "source": [
        "def make_a_mess(array):\n",
        "  return np.array([i*rnd.randint(-1, 11) + rnd.randint(-70,60) for i in array]) "
      ],
      "metadata": {
        "id": "FpfRfBrzgQI1"
      },
      "execution_count": null,
      "outputs": []
    },
    {
      "cell_type": "code",
      "source": [
        "sample_set = make_a_mess(generate_sample_set())\n",
        "target_set = make_a_mess(generate_target_set(some_linear_function, sample_set))\n",
        "\n",
        "print('#sample_set: \\n', pd.Series(sample_set).head())\n",
        "print()\n",
        "print('#target_set: \\n', pd.Series(target_set).head())"
      ],
      "metadata": {
        "colab": {
          "base_uri": "https://localhost:8080/"
        },
        "id": "dUkUkYDCcyWj",
        "outputId": "adcf4c60-804c-4a58-a1e4-99f5cf8ea67c"
      },
      "execution_count": null,
      "outputs": [
        {
          "output_type": "stream",
          "name": "stdout",
          "text": [
            "#sample_set: \n",
            " 0   -80.000000\n",
            "1   -64.428571\n",
            "2   -61.428571\n",
            "3    40.857143\n",
            "4    -7.428571\n",
            "dtype: float64\n",
            "\n",
            "#target_set: \n",
            " 0   -4481.0\n",
            "1   -3516.0\n",
            "2     -67.0\n",
            "3     -11.0\n",
            "4    -175.2\n",
            "dtype: float64\n"
          ]
        }
      ]
    },
    {
      "cell_type": "code",
      "source": [
        "dataset = pd.DataFrame(target_set, sample_set)"
      ],
      "metadata": {
        "id": "kxXlieIvkony"
      },
      "execution_count": null,
      "outputs": []
    },
    {
      "cell_type": "code",
      "source": [
        "#visualizing datq\n",
        "plt.scatter(sample_set, target_set)\n",
        "plt.title('Dataset for fitting a Linear Regression Model')\n",
        "plt.xlabel('Observations')\n",
        "plt.ylabel('Feature to be predicted')\n",
        "plt.show()"
      ],
      "metadata": {
        "colab": {
          "base_uri": "https://localhost:8080/",
          "height": 295
        },
        "id": "EPfMM-XjeHgN",
        "outputId": "21559215-834b-485a-ed4a-4b45b0ef6720"
      },
      "execution_count": null,
      "outputs": [
        {
          "output_type": "display_data",
          "data": {
            "text/plain": [
              "<Figure size 432x288 with 1 Axes>"
            ],
            "image/png": "[encoded data removed]"
          },
          "metadata": {
            "needs_background": "light"
          }
        }
      ]
    },
    {
      "cell_type": "code",
      "source": [
        "dataset.to_csv('/content/dataset.csv')"
      ],
      "metadata": {
        "id": "LGiT69imkhcc"
      },
      "execution_count": null,
      "outputs": []
    },
    {
      "cell_type": "code",
      "source": [
        "x_set = sample_set\n",
        "y_set = target_set\n",
        "\n",
        "mean_x = x_set.mean()\n",
        "mean_y = y_set.mean()\n",
        "deviation_x = x_set - mean_x\n",
        "deviation_y = y_set - mean_y\n",
        "numerator   = sum(deviation_x * deviation_y)\n",
        "denominator = sum(np.square(deviation_x))\n",
        "w1 = numerator/denominator\n",
        "w0 = mean_y - w1*mean_x\n",
        "print('w1 :', w1)\n",
        "print('w0 :', w0)\n"
      ],
      "metadata": {
        "colab": {
          "base_uri": "https://localhost:8080/"
        },
        "id": "rWUSu08gmKX-",
        "outputId": "65a40be1-9ac6-4e89-8994-cfb4b90d5dc6"
      },
      "execution_count": 20,
      "outputs": [
        {
          "output_type": "stream",
          "name": "stdout",
          "text": [
            "w1 : 15.818429189768919\n",
            "w0 : 581.897569412537\n"
          ]
        }
      ]
    },
    {
      "cell_type": "code",
      "source": [
        "def predict(x):\n",
        "  return w0 + w1*x"
      ],
      "metadata": {
        "id": "9lBgvEpcnnyt"
      },
      "execution_count": 21,
      "outputs": []
    },
    {
      "cell_type": "code",
      "source": [
        "plt.plot(x_set,predict(x_set),color='red')\n",
        "plt.scatter(x_set,y_set)\n",
        "plt.title('Dataset for fitting a Linear Regression Model')\n",
        "plt.xlabel('Observations')\n",
        "plt.ylabel('Feature to predict')\n",
        "plt.show()"
      ],
      "metadata": {
        "colab": {
          "base_uri": "https://localhost:8080/",
          "height": 295
        },
        "id": "z-SuK4MAnzr6",
        "outputId": "59ec38c7-02ec-455c-f858-3c23d57d51f2"
      },
      "execution_count": 22,
      "outputs": [
        {
          "output_type": "display_data",
          "data": {
            "text/plain": [
              "<Figure size 432x288 with 1 Axes>"
            ],
            "image/png": "[encoded data removed]"
          },
          "metadata": {
            "needs_background": "light"
          }
        }
      ]
    }
  ]
}