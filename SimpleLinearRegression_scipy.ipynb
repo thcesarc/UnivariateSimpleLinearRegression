{
  "nbformat": 4,
  "nbformat_minor": 0,
  "metadata": {
    "colab": {
      "provenance": [],
      "authorship_tag": "ABX9TyMNwM4BpEjcFtXbF4xAvis9",
      "include_colab_link": true
    },
    "kernelspec": {
      "name": "python3",
      "display_name": "Python 3"
    },
    "language_info": {
      "name": "python"
    }
  },
  "cells": [
    {
      "cell_type": "markdown",
      "metadata": {
        "id": "view-in-github",
        "colab_type": "text"
      },
      "source": [
        "<a href=\"https://colab.research.google.com/github/thcesarc/UnivariateSimpleLinearRegression/blob/main/SimpleLinearRegression_scipy.ipynb\" target=\"_parent\"><img src=\"https://colab.research.google.com/assets/colab-badge.svg\" alt=\"Open In Colab\"/></a>"
      ]
    },
    {
      "cell_type": "code",
      "execution_count": 25,
      "metadata": {
        "id": "0ixbY8Se9D8i"
      },
      "outputs": [],
      "source": [
        "import numpy  as np\n",
        "import pandas as pd\n",
        "import matplotlib.pyplot as plt\n",
        "from   scipy.linalg import lstsq\n",
        "from   sklearn.metrics import r2_score"
      ]
    },
    {
      "cell_type": "markdown",
      "source": [
        "###Loading, selecting and splitting dataset"
      ],
      "metadata": {
        "id": "tO49gW-7FbHK"
      }
    },
    {
      "cell_type": "code",
      "source": [
        "#loading\n",
        "full_dataset = pd.read_csv('Summary of Weather.csv', low_memory=False)"
      ],
      "metadata": {
        "id": "08jbdMBM9fNN"
      },
      "execution_count": 26,
      "outputs": []
    },
    {
      "cell_type": "code",
      "source": [
        "#selection filter: select all dataframe rows in which the 'STA' (station) feature column is equals to the paris station code (34022)\n",
        "paris_filter = full_dataset['STA'] == 34022"
      ],
      "metadata": {
        "id": "l1VTvIi1Ffo6"
      },
      "execution_count": 27,
      "outputs": []
    },
    {
      "cell_type": "code",
      "source": [
        "#split the dataset\n",
        "minimum_temperatures = full_dataset[paris_filter].loc[:,'MinTemp'].values\n",
        "maximum_temperatures = full_dataset[paris_filter].loc[:,'MaxTemp'].values"
      ],
      "metadata": {
        "id": "s4hfTReJFiTM"
      },
      "execution_count": 28,
      "outputs": []
    },
    {
      "cell_type": "markdown",
      "source": [
        "###Data transformation\n"
      ],
      "metadata": {
        "id": "-OXUwwg994MT"
      }
    },
    {
      "cell_type": "code",
      "source": [
        "minimum_temperatures_transformed = minimum_temperatures.reshape(-1,1)**[0,1] #mess around with the elements of the expoent list to understand what it is being done here\n",
        "minimum_temperatures_transformed[:10]\n",
        "#scipy.linalg.lstqs() requires data in this format "
      ],
      "metadata": {
        "colab": {
          "base_uri": "https://localhost:8080/"
        },
        "id": "F-XISUid93Yk",
        "outputId": "9266bd73-8455-4589-f09c-46ed2ff20c28"
      },
      "execution_count": 29,
      "outputs": [
        {
          "output_type": "execute_result",
          "data": {
            "text/plain": [
              "array([[ 1.        ,  7.77777778],\n",
              "       [ 1.        ,  4.44444444],\n",
              "       [ 1.        ,  2.22222222],\n",
              "       [ 1.        ,  4.44444444],\n",
              "       [ 1.        ,  2.22222222],\n",
              "       [ 1.        ,  6.11111111],\n",
              "       [ 1.        ,  9.44444444],\n",
              "       [ 1.        , 10.        ],\n",
              "       [ 1.        ,  8.88888889],\n",
              "       [ 1.        ,  9.44444444]])"
            ]
          },
          "metadata": {},
          "execution_count": 29
        }
      ]
    },
    {
      "cell_type": "markdown",
      "source": [
        "###Fitting data"
      ],
      "metadata": {
        "id": "XaX3Tmq4_MWn"
      }
    },
    {
      "cell_type": "code",
      "source": [
        "hyperparameters,_,_,_ =lstsq(minimum_temperatures_transformed, maximum_temperatures)\n",
        "print(hyperparameters)"
      ],
      "metadata": {
        "colab": {
          "base_uri": "https://localhost:8080/"
        },
        "id": "aBmA5ABT-aW1",
        "outputId": "bb33a507-d0cb-4d7e-f593-0d06d248f64d"
      },
      "execution_count": 30,
      "outputs": [
        {
          "output_type": "stream",
          "name": "stdout",
          "text": [
            "[7.89836196 1.23809106]\n"
          ]
        }
      ]
    },
    {
      "cell_type": "markdown",
      "source": [
        "###Defining function for prediction"
      ],
      "metadata": {
        "id": "FOlcevgI_-3P"
      }
    },
    {
      "cell_type": "code",
      "source": [
        "def predict(x_set, hp=hyperparameters):\n",
        "  w0 = hp[0]\n",
        "  w1 = hp[1]\n",
        "  return w0 + w1*x_set"
      ],
      "metadata": {
        "id": "EYooTRIsADyv"
      },
      "execution_count": 31,
      "outputs": []
    },
    {
      "cell_type": "markdown",
      "source": [
        "###Prediction"
      ],
      "metadata": {
        "id": "Q8RWOMqQHI-C"
      }
    },
    {
      "cell_type": "code",
      "source": [
        "predicted = predict(minimum_temperatures)"
      ],
      "metadata": {
        "id": "mwrjWkD-G_is"
      },
      "execution_count": 32,
      "outputs": []
    },
    {
      "cell_type": "markdown",
      "source": [
        "###R² coefficient"
      ],
      "metadata": {
        "id": "7RQfsdXrHBFj"
      }
    },
    {
      "cell_type": "code",
      "source": [
        "score = r2_score(maximum_temperatures, predicted)\n",
        "print(\"{0:.2f}% of the data is well explained by the model.\".format(score*100))"
      ],
      "metadata": {
        "colab": {
          "base_uri": "https://localhost:8080/"
        },
        "id": "dAYQbzJRHFYy",
        "outputId": "9db9d69d-b7ad-4f44-f160-b88bee74eec8"
      },
      "execution_count": 33,
      "outputs": [
        {
          "output_type": "stream",
          "name": "stdout",
          "text": [
            "77.57% of the data is well explained by the model.\n"
          ]
        }
      ]
    },
    {
      "cell_type": "markdown",
      "source": [
        "###Visualizing data"
      ],
      "metadata": {
        "id": "quM13BsX_zYc"
      }
    },
    {
      "cell_type": "code",
      "source": [
        "plt.scatter(minimum_temperatures, maximum_temperatures)\n",
        "plt.plot(minimum_temperatures, predicted_set, color='red')\n",
        "plt.title('scipy.linalg.lstsq fitting')\n",
        "plt.xlabel('Minimum temps')\n",
        "plt.ylabel('Maximum temps')\n",
        "plt.show()\n"
      ],
      "metadata": {
        "colab": {
          "base_uri": "https://localhost:8080/",
          "height": 295
        },
        "id": "KUMg08IS_y9w",
        "outputId": "b6db4593-65d7-46d3-df6a-dd02d19a86b7"
      },
      "execution_count": 34,
      "outputs": [
        {
          "output_type": "display_data",
          "data": {
            "text/plain": [
              "<Figure size 432x288 with 1 Axes>"
            ],
            "image/png": "[encoded data removed]"
          },
          "metadata": {
            "needs_background": "light"
          }
        }
      ]
    }
  ]
}